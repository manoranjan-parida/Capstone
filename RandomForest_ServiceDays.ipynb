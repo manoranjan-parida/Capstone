{
  "nbformat": 4,
  "nbformat_minor": 0,
  "metadata": {
    "colab": {
      "name": "RandomForest_ServiceDays",
      "provenance": [],
      "toc_visible": true,
      "mount_file_id": "1K-x3FH0113_2tYKiG__BFULZSwUxePOZ",
      "authorship_tag": "ABX9TyOP4aVXZn1BDVYHHkB56eis",
      "include_colab_link": true
    },
    "kernelspec": {
      "name": "python3",
      "display_name": "Python 3"
    },
    "language_info": {
      "name": "python"
    },
    "accelerator": "GPU"
  },
  "cells": [
    {
      "cell_type": "markdown",
      "metadata": {
        "id": "view-in-github",
        "colab_type": "text"
      },
      "source": [
        "<a href=\"https://colab.research.google.com/github/manoranjan-parida/Capstone/blob/main/RandomForest_ServiceDays.ipynb\" target=\"_parent\"><img src=\"https://colab.research.google.com/assets/colab-badge.svg\" alt=\"Open In Colab\"/></a>"
      ]
    },
    {
      "cell_type": "code",
      "metadata": {
        "id": "DV4usQCLZ34d"
      },
      "source": [
        ""
      ],
      "execution_count": null,
      "outputs": []
    },
    {
      "cell_type": "markdown",
      "metadata": {
        "id": "XaylKoJqZ4_A"
      },
      "source": [
        "# New Section"
      ]
    },
    {
      "cell_type": "code",
      "metadata": {
        "id": "YrQL0NsAa3Ys"
      },
      "source": [
        "import re\n",
        "from sklearn.preprocessing import LabelEncoder\n",
        "import pandas as pd\n",
        "import numpy as np\n",
        "\n",
        "#Check if there is special character in columns and fill with na   \n",
        "def checkSpecialChar_fillna(df):\n",
        "    \"\"\"\n",
        "    Parameters\n",
        "    ----------\n",
        "    df : DataFrame\n",
        "        Dataframe to check if there are any columns having specical.\n",
        "\n",
        "    Returns\n",
        "    -------\n",
        "    None.\n",
        "\n",
        "    \"\"\"\n",
        "    for i in df.columns:\n",
        "        df[i][df[i].apply(lambda i: True if re.search('^\\s*$', str(i)) else False)]=None\n",
        "        #Replace NA with 0\n",
        "        df[i].fillna('0',inplace=True)\n",
        "        return None\n",
        "    \n",
        "#Replace Na with No Info\n",
        "def replaceNa(df):\n",
        "    \"\"\"\n",
        "    Parameters\n",
        "    ----------\n",
        "    df : DataFrame\n",
        "        DataFrame to check if columns have any na or null values.\n",
        "\n",
        "    Returns\n",
        "    -------\n",
        "    column_holder : dict\n",
        "        column names whose values have been updated from na or null to No Info.\n",
        "\n",
        "    \"\"\"\n",
        "    column_holder={}\n",
        "    for i in df.columns:\n",
        "        if df[i].isnull().values.any()==True:\n",
        "            df[i].fillna('No Info',inplace=True)\n",
        "            column_holder[i]=\"Updated with No Info\"\n",
        "    return column_holder\n",
        "\n",
        "#Function for Gettimg Mapping of values in LabelEncoder\n",
        "def get_integer_mapping(le):\n",
        "    \"\"\"\n",
        "    Parameters\n",
        "    ----------\n",
        "    le : TYPE\n",
        "        a fitted SKlearn LabelEncoder.\n",
        "\n",
        "    Returns\n",
        "    -------\n",
        "    res : TYPE\n",
        "        Return a dict mapping labels to their integer values.\n",
        "\n",
        "    \"\"\"\n",
        "    res = {}\n",
        "    for cl in le.classes_:\n",
        "        res.update({cl:le.transform([cl])[0]})\n",
        "\n",
        "    return res\n",
        "\n",
        "\n",
        "\n",
        "#Fitting & Transform Label Encoder\n",
        "def labelEncoder_Mapper(cat_df):\n",
        "    \"\"\"\n",
        "    Parameters\n",
        "    ----------\n",
        "    cat_df : DataFrame\n",
        "        Categorical DataFrame whose encoding and corresponding Mapping is needed.\n",
        "\n",
        "    Returns\n",
        "    -------\n",
        "    encoder_mapping : Dict\n",
        "        Dictonary of encoder mapping.\n",
        "\n",
        "    \"\"\"\n",
        "    print(\"------>Label Encoding and Mapping has begun pls wait<------\")\n",
        "    le=LabelEncoder()\n",
        "    encoder_mapping = {}\n",
        "    for i in cat_df.columns:\n",
        "        \n",
        "        cat_df[i]=le.fit_transform(cat_df[i])\n",
        "        print(i,'Fit Done..Mapping Started')\n",
        "        encoder_mapping[i+'_Mapping'] = get_integer_mapping(le)\n",
        "    \n",
        "    return encoder_mapping\n",
        "\n",
        "def getMonth(df,column):\n",
        "    \"\"\"\n",
        "    Parameters\n",
        "    ----------\n",
        "    df : DataFrame\n",
        "        DataFrame having column for extracting month.\n",
        "    column : datetime\n",
        "        date column for extracting month.\n",
        "\n",
        "    Returns\n",
        "    -------\n",
        "    df : DataFrame\n",
        "        DatFrame having month as column against index.\n",
        "\n",
        "    \"\"\"\n",
        "    month_={}\n",
        "    for i in range(0,len(df)):\n",
        "        month_[i]=df[column][i].month\n",
        "    df=pd.DataFrame.from_dict(month_,orient='index')\n",
        "    return df\n",
        "    \n",
        "\n",
        "def getHour(df,column):\n",
        "    \"\"\"\n",
        "    Parameters\n",
        "    ----------\n",
        "    df : DataFrame\n",
        "        Datraframe having timestamp column for extracting hour.\n",
        "    column : timestamp\n",
        "        Timestamp column for extracting hour.\n",
        "\n",
        "    Returns\n",
        "    -------\n",
        "    df : DataFrame\n",
        "        DatFrame having hour as column against index.\n",
        "\n",
        "    \"\"\"\n",
        "    hour_={}\n",
        "    for i in range(0,len(df)):\n",
        "        hour_[i]=df[column][i].hour\n",
        "    df=pd.DataFrame.from_dict(hour_,orient='index')\n",
        "    return df    \n",
        "\n",
        "def dataTypeCheck(df,column):\n",
        "    index_list_not_str=[]\n",
        "    for i in range(0,len(df)):\n",
        "        if type(df[column][i])==float:\n",
        "            index_list_not_str.append(i)\n",
        "        \n",
        "    return index_list_not_str\n"
      ],
      "execution_count": 9,
      "outputs": []
    },
    {
      "cell_type": "code",
      "metadata": {
        "id": "swaOnPE2M0Xi"
      },
      "source": [
        "from sklearn.model_selection import train_test_split\n",
        "from sklearn.ensemble import RandomForestClassifier\n",
        "from sklearn.metrics import accuracy_score, classification_report, confusion_matrix, precision_score,recall_score,f1_score\n",
        "from sklearn.metrics import accuracy_score, confusion_matrix, classification_report,precision_score\n",
        "import numpy as np\n",
        "import pandas as pd\n",
        "import seaborn as sns\n",
        "import matplotlib.pyplot as plt\n",
        "from sklearn.naive_bayes import GaussianNB\n",
        "from sklearn.ensemble import GradientBoostingClassifier\n",
        "from sklearn.model_selection import GridSearchCV\n",
        "from sklearn.model_selection import RandomizedSearchCV\n",
        "from sklearn.ensemble import RandomForestClassifier\n",
        "from sklearn.ensemble import BaggingClassifier\n",
        "from sklearn.tree import DecisionTreeClassifier"
      ],
      "execution_count": 5,
      "outputs": []
    },
    {
      "cell_type": "code",
      "metadata": {
        "id": "ut6oMKzAbBS9"
      },
      "source": [
        "data_model_cust=pd.read_csv('/content/drive/MyDrive/Capstone/Data/data_model_cust.csv')"
      ],
      "execution_count": 6,
      "outputs": []
    },
    {
      "cell_type": "code",
      "metadata": {
        "colab": {
          "base_uri": "https://localhost:8080/"
        },
        "id": "TDSdeVfOOc14",
        "outputId": "5343bc20-ef02-4f8f-a478-88c307bfc46e"
      },
      "source": [
        "data_model_cust.columns"
      ],
      "execution_count": 12,
      "outputs": [
        {
          "output_type": "execute_result",
          "data": {
            "text/plain": [
              "Index(['Unnamed: 0', 'JobCard_month', 'KMsReading', 'JobCard_day', 'OrderType',\n",
              "       'PlantName1', 'Make', 'Model', 'Service_Class'],\n",
              "      dtype='object')"
            ]
          },
          "metadata": {
            "tags": []
          },
          "execution_count": 12
        }
      ]
    },
    {
      "cell_type": "code",
      "metadata": {
        "colab": {
          "base_uri": "https://localhost:8080/",
          "height": 366
        },
        "id": "FPFUFrqarALF",
        "outputId": "3c78fe2a-7198-42b4-f70c-9e8dee5ab759"
      },
      "source": [
        "sns.countplot(data_model_cust.Service_Class.value_counts())"
      ],
      "execution_count": 27,
      "outputs": [
        {
          "output_type": "stream",
          "text": [
            "/usr/local/lib/python3.7/dist-packages/seaborn/_decorators.py:43: FutureWarning: Pass the following variable as a keyword arg: x. From version 0.12, the only valid positional argument will be `data`, and passing other arguments without an explicit keyword will result in an error or misinterpretation.\n",
            "  FutureWarning\n"
          ],
          "name": "stderr"
        },
        {
          "output_type": "execute_result",
          "data": {
            "text/plain": [
              "<matplotlib.axes._subplots.AxesSubplot at 0x7f981c4c9150>"
            ]
          },
          "metadata": {
            "tags": []
          },
          "execution_count": 27
        },
        {
          "output_type": "display_data",
          "data": {
            "image/png": "[encoded data removed]",
            "text/plain": [
              "<Figure size 432x288 with 1 Axes>"
            ]
          },
          "metadata": {
            "tags": []
          }
        }
      ]
    },
    {
      "cell_type": "code",
      "metadata": {
        "id": "mqgqQhx8NiOq"
      },
      "source": [
        "data_model_cust.drop(columns=['Unnamed: 0'],inplace=True)"
      ],
      "execution_count": 7,
      "outputs": []
    },
    {
      "cell_type": "code",
      "metadata": {
        "id": "GX0cNCDhfn-W"
      },
      "source": [
        "#Splitting Data\n",
        "y=data_model_cust['Service_Class']\n",
        "X=data_model_cust.drop('Service_Class',axis=1)"
      ],
      "execution_count": 8,
      "outputs": []
    },
    {
      "cell_type": "code",
      "metadata": {
        "id": "6eBPEgh_fP6C"
      },
      "source": [
        "#Train Test Split\n",
        "X_train,X_test,y_train,y_test=train_test_split(X,y,test_size=0.2,random_state=9)"
      ],
      "execution_count": 9,
      "outputs": []
    },
    {
      "cell_type": "code",
      "metadata": {
        "colab": {
          "base_uri": "https://localhost:8080/",
          "height": 110
        },
        "id": "NXrRPg_npTeB",
        "outputId": "38375677-99e3-4ca0-c615-b169855ec5ef"
      },
      "source": [
        "X_train.head(2)"
      ],
      "execution_count": 20,
      "outputs": [
        {
          "output_type": "execute_result",
          "data": {
            "text/html": [
              "<div>\n",
              "<style scoped>\n",
              "    .dataframe tbody tr th:only-of-type {\n",
              "        vertical-align: middle;\n",
              "    }\n",
              "\n",
              "    .dataframe tbody tr th {\n",
              "        vertical-align: top;\n",
              "    }\n",
              "\n",
              "    .dataframe thead th {\n",
              "        text-align: right;\n",
              "    }\n",
              "</style>\n",
              "<table border=\"1\" class=\"dataframe\">\n",
              "  <thead>\n",
              "    <tr style=\"text-align: right;\">\n",
              "      <th></th>\n",
              "      <th>JobCard_month</th>\n",
              "      <th>KMsReading</th>\n",
              "      <th>JobCard_day</th>\n",
              "      <th>OrderType</th>\n",
              "      <th>PlantName1</th>\n",
              "      <th>Make</th>\n",
              "      <th>Model</th>\n",
              "    </tr>\n",
              "  </thead>\n",
              "  <tbody>\n",
              "    <tr>\n",
              "      <th>10051</th>\n",
              "      <td>6</td>\n",
              "      <td>900354</td>\n",
              "      <td>8</td>\n",
              "      <td>2</td>\n",
              "      <td>0</td>\n",
              "      <td>12</td>\n",
              "      <td>181</td>\n",
              "    </tr>\n",
              "    <tr>\n",
              "      <th>1169812</th>\n",
              "      <td>5</td>\n",
              "      <td>132287</td>\n",
              "      <td>22</td>\n",
              "      <td>2</td>\n",
              "      <td>126</td>\n",
              "      <td>6</td>\n",
              "      <td>203</td>\n",
              "    </tr>\n",
              "  </tbody>\n",
              "</table>\n",
              "</div>"
            ],
            "text/plain": [
              "         JobCard_month  KMsReading  JobCard_day  ...  PlantName1  Make  Model\n",
              "10051                6      900354            8  ...           0    12    181\n",
              "1169812              5      132287           22  ...         126     6    203\n",
              "\n",
              "[2 rows x 7 columns]"
            ]
          },
          "metadata": {
            "tags": []
          },
          "execution_count": 20
        }
      ]
    },
    {
      "cell_type": "code",
      "metadata": {
        "id": "c76Sck4wf2nS"
      },
      "source": [
        "#{'n_estimators': 150, 'min_samples_leaf': 2, 'max_depth': 30, 'criterion': 'entropy'}\n",
        "#Trying RF Classifier\n",
        "rf=RandomForestClassifier(n_estimators=150,min_samples_leaf=2,max_depth=30,criterion='entropy')\n",
        "rf.fit(X_train, y_train)\n",
        "pickle.dump(rf, open(filename, 'wb'))\n",
        "y_pred=rf.predict(X_test)"
      ],
      "execution_count": 10,
      "outputs": []
    },
    {
      "cell_type": "code",
      "metadata": {
        "id": "0nCqcou1h0OW"
      },
      "source": [
        "import pickle"
      ],
      "execution_count": 2,
      "outputs": []
    },
    {
      "cell_type": "code",
      "metadata": {
        "id": "YxSAoY11h7qS"
      },
      "source": [
        "import pickle\n",
        "filename = \"/content/drive/MyDrive/Capstone/rf_cust_model.sav\""
      ],
      "execution_count": 17,
      "outputs": []
    },
    {
      "cell_type": "code",
      "metadata": {
        "colab": {
          "base_uri": "https://localhost:8080/"
        },
        "id": "Qg6dhRV8gvkN",
        "outputId": "febb1edf-d075-4d55-a567-d670a4a20b86"
      },
      "source": [
        "print(\"Accuracy Score is :\",accuracy_score(y_test, y_pred))\n",
        "print(\"Confusion Matris is :\\n\",confusion_matrix(y_test, y_pred))"
      ],
      "execution_count": null,
      "outputs": [
        {
          "output_type": "stream",
          "text": [
            "Accuracy Score is : 0.9710899347026869\n",
            "Confusion Matris is :\n",
            " [[66419    86   723   329]\n",
            " [  189 36134  1333   396]\n",
            " [  648   678 85977  1447]\n",
            " [  413   192  1469 76932]]\n"
          ],
          "name": "stdout"
        }
      ]
    },
    {
      "cell_type": "code",
      "metadata": {
        "colab": {
          "base_uri": "https://localhost:8080/",
          "height": 537
        },
        "id": "VoLe9BYOmbHF",
        "outputId": "2a3f9e17-659f-4beb-fbc3-ae707d832fbe"
      },
      "source": [
        "# Get and reshape confusion matrix data\n",
        "matrix = confusion_matrix(y_test, y_pred)\n",
        "matrix = matrix.astype('float') / matrix.sum(axis=1)[:, np.newaxis]\n",
        "\n",
        "# Build the plot\n",
        "plt.figure(figsize=(16,7))\n",
        "sns.set(font_scale=1.4)\n",
        "sns.heatmap(matrix, annot=True, annot_kws={'size':10},\n",
        "            cmap=plt.cm.Greens, linewidths=0.2)\n",
        "\n",
        "# Add labels to the plot\n",
        "class_names = ['Same Day', 'Next Day', 'Within Week', \n",
        "               'More Than a Week']\n",
        "tick_marks = np.arange(len(class_names))\n",
        "tick_marks2 = tick_marks + 0.5\n",
        "plt.xticks(tick_marks, class_names, rotation=25)\n",
        "plt.yticks(tick_marks2, class_names, rotation=0)\n",
        "plt.xlabel('Predicted label')\n",
        "plt.ylabel('True label')\n",
        "plt.title('Confusion Matrix for Random Forest Model')\n",
        "plt.show()"
      ],
      "execution_count": 11,
      "outputs": [
        {
          "output_type": "display_data",
          "data": {
            "image/png": "[encoded data removed]",
            "text/plain": [
              "<Figure size 1152x504 with 2 Axes>"
            ]
          },
          "metadata": {
            "tags": [],
            "needs_background": "light"
          }
        }
      ]
    },
    {
      "cell_type": "code",
      "metadata": {
        "id": "M_sXaBzPoW8l"
      },
      "source": [
        "rf=RandomForestClassifier()\n",
        "rf.fit(X_train, y_train)\n",
        "acc_rf=rf.score(X_test,y_test)\n",
        "print(\"Score\",acc_rf)\n"
      ],
      "execution_count": null,
      "outputs": []
    },
    {
      "cell_type": "code",
      "metadata": {
        "colab": {
          "base_uri": "https://localhost:8080/"
        },
        "id": "K0C936OusYAt",
        "outputId": "b6a6cba3-9080-4162-f992-37e6c7191c05"
      },
      "source": [
        "rf.get_params"
      ],
      "execution_count": null,
      "outputs": [
        {
          "output_type": "execute_result",
          "data": {
            "text/plain": [
              "<bound method BaseEstimator.get_params of RandomForestClassifier(bootstrap=True, ccp_alpha=0.0, class_weight=None,\n",
              "                       criterion='gini', max_depth=None, max_features='auto',\n",
              "                       max_leaf_nodes=None, max_samples=None,\n",
              "                       min_impurity_decrease=0.0, min_impurity_split=None,\n",
              "                       min_samples_leaf=1, min_samples_split=2,\n",
              "                       min_weight_fraction_leaf=0.0, n_estimators=100,\n",
              "                       n_jobs=None, oob_score=False, random_state=None,\n",
              "                       verbose=0, warm_start=False)>"
            ]
          },
          "metadata": {
            "tags": []
          },
          "execution_count": 31
        }
      ]
    },
    {
      "cell_type": "code",
      "metadata": {
        "id": "8q19bj7hmwBj"
      },
      "source": [
        "pickle.dump(rf, open(filename, 'wb'))"
      ],
      "execution_count": 18,
      "outputs": []
    },
    {
      "cell_type": "code",
      "metadata": {
        "colab": {
          "base_uri": "https://localhost:8080/",
          "height": 86
        },
        "id": "9r0JedaflHBr",
        "outputId": "9235fb06-0028-4880-a616-f75af2003fff"
      },
      "source": [
        "classification_report(y_test,y_pred,digits=3)\n",
        "\n"
      ],
      "execution_count": 13,
      "outputs": [
        {
          "output_type": "execute_result",
          "data": {
            "application/vnd.google.colaboratory.intrinsic+json": {
              "type": "string"
            },
            "text/plain": [
              "'              precision    recall  f1-score   support\\n\\n           0      0.975     0.967     0.971     67557\\n           1      0.984     0.913     0.947     38052\\n           2      0.928     0.973     0.950     88750\\n           3      0.969     0.957     0.963     79006\\n\\n    accuracy                          0.958    273365\\n   macro avg      0.964     0.952     0.958    273365\\nweighted avg      0.959     0.958     0.958    273365\\n'"
            ]
          },
          "metadata": {
            "tags": []
          },
          "execution_count": 13
        }
      ]
    },
    {
      "cell_type": "code",
      "metadata": {
        "colab": {
          "base_uri": "https://localhost:8080/",
          "height": 313
        },
        "id": "6MDTwnpXlA07",
        "outputId": "ff7b7e19-845e-445d-8e08-252a69a9ba11"
      },
      "source": [
        "from pathlib import Path\n",
        "\n",
        "Path(\"/content/rf_cust_model.sav\").rename(\"/content/drive/MyDrive/Capstone/rf_cust_model.sav\")"
      ],
      "execution_count": 15,
      "outputs": [
        {
          "output_type": "error",
          "ename": "OSError",
          "evalue": "ignored",
          "traceback": [
            "\u001b[0;31m---------------------------------------------------------------------------\u001b[0m",
            "\u001b[0;31mOSError\u001b[0m                                   Traceback (most recent call last)",
            "\u001b[0;32m<ipython-input-15-5f73edb4c62e>\u001b[0m in \u001b[0;36m<module>\u001b[0;34m()\u001b[0m\n\u001b[1;32m      1\u001b[0m \u001b[0;32mfrom\u001b[0m \u001b[0mpathlib\u001b[0m \u001b[0;32mimport\u001b[0m \u001b[0mPath\u001b[0m\u001b[0;34m\u001b[0m\u001b[0;34m\u001b[0m\u001b[0m\n\u001b[1;32m      2\u001b[0m \u001b[0;34m\u001b[0m\u001b[0m\n\u001b[0;32m----> 3\u001b[0;31m \u001b[0mPath\u001b[0m\u001b[0;34m(\u001b[0m\u001b[0;34m\"/content/rf_cust_model.sav\"\u001b[0m\u001b[0;34m)\u001b[0m\u001b[0;34m.\u001b[0m\u001b[0mrename\u001b[0m\u001b[0;34m(\u001b[0m\u001b[0;34m\"/content/drive/MyDrive/Capstone/rf_cust_model.sav\"\u001b[0m\u001b[0;34m)\u001b[0m\u001b[0;34m\u001b[0m\u001b[0;34m\u001b[0m\u001b[0m\n\u001b[0m",
            "\u001b[0;32m/usr/lib/python3.7/pathlib.py\u001b[0m in \u001b[0;36mrename\u001b[0;34m(self, target)\u001b[0m\n\u001b[1;32m   1332\u001b[0m         \u001b[0;32mif\u001b[0m \u001b[0mself\u001b[0m\u001b[0;34m.\u001b[0m\u001b[0m_closed\u001b[0m\u001b[0;34m:\u001b[0m\u001b[0;34m\u001b[0m\u001b[0;34m\u001b[0m\u001b[0m\n\u001b[1;32m   1333\u001b[0m             \u001b[0mself\u001b[0m\u001b[0;34m.\u001b[0m\u001b[0m_raise_closed\u001b[0m\u001b[0;34m(\u001b[0m\u001b[0;34m)\u001b[0m\u001b[0;34m\u001b[0m\u001b[0;34m\u001b[0m\u001b[0m\n\u001b[0;32m-> 1334\u001b[0;31m         \u001b[0mself\u001b[0m\u001b[0;34m.\u001b[0m\u001b[0m_accessor\u001b[0m\u001b[0;34m.\u001b[0m\u001b[0mrename\u001b[0m\u001b[0;34m(\u001b[0m\u001b[0mself\u001b[0m\u001b[0;34m,\u001b[0m \u001b[0mtarget\u001b[0m\u001b[0;34m)\u001b[0m\u001b[0;34m\u001b[0m\u001b[0;34m\u001b[0m\u001b[0m\n\u001b[0m\u001b[1;32m   1335\u001b[0m \u001b[0;34m\u001b[0m\u001b[0m\n\u001b[1;32m   1336\u001b[0m     \u001b[0;32mdef\u001b[0m \u001b[0mreplace\u001b[0m\u001b[0;34m(\u001b[0m\u001b[0mself\u001b[0m\u001b[0;34m,\u001b[0m \u001b[0mtarget\u001b[0m\u001b[0;34m)\u001b[0m\u001b[0;34m:\u001b[0m\u001b[0;34m\u001b[0m\u001b[0;34m\u001b[0m\u001b[0m\n",
            "\u001b[0;31mOSError\u001b[0m: [Errno 18] Invalid cross-device link: '/content/rf_cust_model.sav' -> '/content/drive/MyDrive/Capstone/rf_cust_model.sav'"
          ]
        }
      ]
    },
    {
      "cell_type": "code",
      "metadata": {
        "colab": {
          "base_uri": "https://localhost:8080/"
        },
        "id": "X1Lx9CJuldVB",
        "outputId": "bb865f4c-5839-4536-9c11-ee1cad329671"
      },
      "source": [
        "rf.get_params"
      ],
      "execution_count": 16,
      "outputs": [
        {
          "output_type": "execute_result",
          "data": {
            "text/plain": [
              "<bound method BaseEstimator.get_params of RandomForestClassifier(bootstrap=True, ccp_alpha=0.0, class_weight=None,\n",
              "                       criterion='entropy', max_depth=30, max_features='auto',\n",
              "                       max_leaf_nodes=None, max_samples=None,\n",
              "                       min_impurity_decrease=0.0, min_impurity_split=None,\n",
              "                       min_samples_leaf=2, min_samples_split=2,\n",
              "                       min_weight_fraction_leaf=0.0, n_estimators=150,\n",
              "                       n_jobs=None, oob_score=False, random_state=None,\n",
              "                       verbose=0, warm_start=False)>"
            ]
          },
          "metadata": {
            "tags": []
          },
          "execution_count": 16
        }
      ]
    },
    {
      "cell_type": "code",
      "metadata": {
        "colab": {
          "base_uri": "https://localhost:8080/",
          "height": 86
        },
        "id": "f7OWE6vrp0VL",
        "outputId": "a6e7bb9c-0eb9-467b-800f-91710c6d8ed6"
      },
      "source": [
        "\n",
        "clf = GaussianNB()\n",
        "clf.fit(X_train,y_train)\n"
      ],
      "execution_count": null,
      "outputs": [
        {
          "output_type": "execute_result",
          "data": {
            "application/vnd.google.colaboratory.intrinsic+json": {
              "type": "string"
            },
            "text/plain": [
              "'              precision    recall  f1-score   support\\n\\n           0      0.982     0.983     0.982     67557\\n           1      0.974     0.950     0.962     38052\\n           2      0.961     0.969     0.965     88750\\n           3      0.973     0.974     0.973     79006\\n\\n    accuracy                          0.971    273365\\n   macro avg      0.972     0.969     0.970    273365\\nweighted avg      0.971     0.971     0.971    273365\\n'"
            ]
          },
          "metadata": {
            "tags": []
          },
          "execution_count": 28
        }
      ]
    },
    {
      "cell_type": "code",
      "metadata": {
        "colab": {
          "base_uri": "https://localhost:8080/",
          "height": 139
        },
        "id": "424MwkZmqTv6",
        "outputId": "4b1333d7-26cc-4db8-f749-2bd2fb8faa41"
      },
      "source": [
        "y_pred=clf.predict(X_test)\n",
        "classification_report(y_test,y_pred,digits=3)"
      ],
      "execution_count": null,
      "outputs": [
        {
          "output_type": "stream",
          "text": [
            "/usr/local/lib/python3.7/dist-packages/sklearn/metrics/_classification.py:1272: UndefinedMetricWarning: Precision and F-score are ill-defined and being set to 0.0 in labels with no predicted samples. Use `zero_division` parameter to control this behavior.\n",
            "  _warn_prf(average, modifier, msg_start, len(result))\n"
          ],
          "name": "stderr"
        },
        {
          "output_type": "execute_result",
          "data": {
            "application/vnd.google.colaboratory.intrinsic+json": {
              "type": "string"
            },
            "text/plain": [
              "'              precision    recall  f1-score   support\\n\\n           0      0.316     0.023     0.044     67557\\n           1      0.000     0.000     0.000     38052\\n           2      0.329     0.957     0.490     88750\\n           3      0.300     0.040     0.071     79006\\n\\n    accuracy                          0.328    273365\\n   macro avg      0.236     0.255     0.151    273365\\nweighted avg      0.272     0.328     0.190    273365\\n'"
            ]
          },
          "metadata": {
            "tags": []
          },
          "execution_count": 29
        }
      ]
    },
    {
      "cell_type": "code",
      "metadata": {
        "colab": {
          "base_uri": "https://localhost:8080/",
          "height": 86
        },
        "id": "Xg-asRfZqsmp",
        "outputId": "3712b0fb-3481-4f22-c70b-d2a302ca1853"
      },
      "source": [
        "\n",
        "dt = DecisionTreeClassifier(criterion = 'entropy',random_state=0)\n",
        "dt.fit(X_train,y_train)\n",
        "y_pred=dt.predict(X_test)\n",
        "classification_report(y_test,y_pred,digits=3)"
      ],
      "execution_count": null,
      "outputs": [
        {
          "output_type": "execute_result",
          "data": {
            "application/vnd.google.colaboratory.intrinsic+json": {
              "type": "string"
            },
            "text/plain": [
              "'              precision    recall  f1-score   support\\n\\n           0      0.973     0.983     0.978     67557\\n           1      0.940     0.954     0.947     38052\\n           2      0.970     0.943     0.956     88750\\n           3      0.961     0.975     0.968     79006\\n\\n    accuracy                          0.964    273365\\n   macro avg      0.961     0.964     0.962    273365\\nweighted avg      0.964     0.964     0.964    273365\\n'"
            ]
          },
          "metadata": {
            "tags": []
          },
          "execution_count": 30
        }
      ]
    },
    {
      "cell_type": "code",
      "metadata": {
        "colab": {
          "base_uri": "https://localhost:8080/",
          "height": 246
        },
        "id": "TDNrWCbTtBdb",
        "outputId": "094ccd56-8e2f-4c8c-d13a-fcb25de64085"
      },
      "source": [
        "\n",
        "GBC=GradientBoostingClassifier(max_depth = 3, min_samples_split = 2)\n",
        "\n",
        "grid_param={'learning_rate': [0.1,0.5]}\n",
        "\n",
        "GBC_modal_selection=GridSearchCV(estimator=GBC,param_grid=grid_param,cv=5)\n",
        "\n",
        "GBC_modal_selection.fit(X_train,y_train)\n",
        "print(GBC_modal_selection.best_params_)\n",
        "perf_report={}\n",
        "perf_report = pd.concat([perf_report, pd.DataFrame([{'model':'GBC_Tuned_Grid',\n",
        "                                             'Accuracy': accuracy_score(y_test,y_pred), \n",
        "                                            'Precision': precision_score(y_test,y_pred),\n",
        "                                            'Recall': recall_score(y_test,y_pred),\n",
        "                                                    'F1':f1_score(y_test,y_pred)}])])"
      ],
      "execution_count": null,
      "outputs": [
        {
          "output_type": "stream",
          "text": [
            "{'learning_rate': 0.5}\n"
          ],
          "name": "stdout"
        },
        {
          "output_type": "error",
          "ename": "NameError",
          "evalue": "ignored",
          "traceback": [
            "\u001b[0;31m---------------------------------------------------------------------------\u001b[0m",
            "\u001b[0;31mNameError\u001b[0m                                 Traceback (most recent call last)",
            "\u001b[0;32m<ipython-input-5-1d7ab264c8ad>\u001b[0m in \u001b[0;36m<module>\u001b[0;34m()\u001b[0m\n\u001b[1;32m     11\u001b[0m \u001b[0mperf_report\u001b[0m\u001b[0;34m=\u001b[0m\u001b[0;34m{\u001b[0m\u001b[0;34m}\u001b[0m\u001b[0;34m\u001b[0m\u001b[0;34m\u001b[0m\u001b[0m\n\u001b[1;32m     12\u001b[0m perf_report = pd.concat([perf_report, pd.DataFrame([{'model':'GBC_Tuned_Grid',\n\u001b[0;32m---> 13\u001b[0;31m                                              \u001b[0;34m'Accuracy'\u001b[0m\u001b[0;34m:\u001b[0m \u001b[0maccuracy_score\u001b[0m\u001b[0;34m(\u001b[0m\u001b[0my_test\u001b[0m\u001b[0;34m,\u001b[0m\u001b[0my_pred\u001b[0m\u001b[0;34m)\u001b[0m\u001b[0;34m,\u001b[0m\u001b[0;34m\u001b[0m\u001b[0;34m\u001b[0m\u001b[0m\n\u001b[0m\u001b[1;32m     14\u001b[0m                                             \u001b[0;34m'Precision'\u001b[0m\u001b[0;34m:\u001b[0m \u001b[0mprecision_score\u001b[0m\u001b[0;34m(\u001b[0m\u001b[0my_test\u001b[0m\u001b[0;34m,\u001b[0m\u001b[0my_pred\u001b[0m\u001b[0;34m)\u001b[0m\u001b[0;34m,\u001b[0m\u001b[0;34m\u001b[0m\u001b[0;34m\u001b[0m\u001b[0m\n\u001b[1;32m     15\u001b[0m                                             \u001b[0;34m'Recall'\u001b[0m\u001b[0;34m:\u001b[0m \u001b[0mrecall_score\u001b[0m\u001b[0;34m(\u001b[0m\u001b[0my_test\u001b[0m\u001b[0;34m,\u001b[0m\u001b[0my_pred\u001b[0m\u001b[0;34m)\u001b[0m\u001b[0;34m,\u001b[0m\u001b[0;34m\u001b[0m\u001b[0;34m\u001b[0m\u001b[0m\n",
            "\u001b[0;31mNameError\u001b[0m: name 'accuracy_score' is not defined"
          ]
        }
      ]
    },
    {
      "cell_type": "code",
      "metadata": {
        "colab": {
          "base_uri": "https://localhost:8080/",
          "height": 86
        },
        "id": "vatIlJ4ULDmI",
        "outputId": "75f6c121-1071-48b4-be0c-2bea839a699b"
      },
      "source": [
        "y_pred=GBC_modal_selection.predict(X_test)\n",
        "classification_report(y_test,y_pred,digits=3)"
      ],
      "execution_count": null,
      "outputs": [
        {
          "output_type": "execute_result",
          "data": {
            "application/vnd.google.colaboratory.intrinsic+json": {
              "type": "string"
            },
            "text/plain": [
              "'              precision    recall  f1-score   support\\n\\n           0      0.599     0.563     0.580     67557\\n           1      0.680     0.040     0.076     38052\\n           2      0.503     0.744     0.600     88750\\n           3      0.451     0.436     0.443     79006\\n\\n    accuracy                          0.512    273365\\n   macro avg      0.558     0.446     0.425    273365\\nweighted avg      0.536     0.512     0.477    273365\\n'"
            ]
          },
          "metadata": {
            "tags": []
          },
          "execution_count": 13
        }
      ]
    },
    {
      "cell_type": "code",
      "metadata": {
        "colab": {
          "base_uri": "https://localhost:8080/"
        },
        "id": "QEP7w9wxuvuX",
        "outputId": "47cb206a-714e-4a3c-f283-fa0729873878"
      },
      "source": [
        "\n",
        "rf=RandomForestClassifier()\n",
        "max_depth=[30]\n",
        "min_samples_leaf=[2,5]\n",
        "criterion=['gini', 'entropy']\n",
        "n_estimators=[100,500]\n",
        "\n",
        "grid_param={\"max_depth\":max_depth,\n",
        "            \"min_samples_leaf\":min_samples_leaf,\n",
        "            \"criterion\":criterion,\n",
        "            \"n_estimators\":n_estimators}\n",
        "\n",
        "rf_modal_selection=RandomizedSearchCV(estimator=rf,param_distributions=grid_param,n_iter=10,cv=5,random_state=3)\n",
        "rf_modal_selection.fit(X_train,y_train)\n",
        "y_pred=rf_modal_selection(X_test)\n",
        "print(rf_modal_selection.best_params_)\n",
        "classification_report(y_test,y_pred,digits=3)\n",
        "\n"
      ],
      "execution_count": null,
      "outputs": [
        {
          "output_type": "stream",
          "text": [
            "/usr/local/lib/python3.7/dist-packages/sklearn/model_selection/_search.py:281: UserWarning: The total space of parameters 8 is smaller than n_iter=10. Running 8 iterations. For exhaustive searches, use GridSearchCV.\n",
            "  % (grid_size, self.n_iter, grid_size), UserWarning)\n"
          ],
          "name": "stderr"
        }
      ]
    },
    {
      "cell_type": "markdown",
      "metadata": {
        "id": "C-A70pO9kVdp"
      },
      "source": [
        "# New Section"
      ]
    }
  ]
}